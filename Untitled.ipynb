{
 "cells": [
  {
   "cell_type": "code",
   "execution_count": 7,
   "metadata": {},
   "outputs": [],
   "source": [
    "import torch\n",
    "import torch.nn as nn\n",
    "import torch.nn.functional as F\n",
    "import torch.optim as optim\n",
    "import matplotlib.pyplot as plt\n",
    "from skimage import io\n",
    "import numpy as np\n"
   ]
  },
  {
   "cell_type": "code",
   "execution_count": 97,
   "metadata": {},
   "outputs": [],
   "source": [
    "class CoarseNet(nn.Module):\n",
    "    def __init__(self):\n",
    "        super(CoarseNet,self).__init__()\n",
    "        self.coarse_conv1 = nn.Conv2d(3,96,11,stride=(4,4))\n",
    "        self.coarse_bnorm1 = nn.BatchNorm2d(96)\n",
    "        self.coarse_conv2 = nn.Conv2d(96,256,5,padding=2)\n",
    "        self.coarse_bnorm2 = nn.BatchNorm2d(256)\n",
    "        self.coarse_conv3 = nn.Conv2d(256,384,3,padding=1)\n",
    "        self.coarse_bnorm3 = nn.BatchNorm2d(384)\n",
    "        self.coarse_conv4 = nn.Conv2d(384,384,3,padding=1)\n",
    "        self.coarse_bnorm4 = nn.BatchNorm2d(384)\n",
    "        self.coarse_conv5 = nn.Conv2d(384,256,3,padding=1)\n",
    "        self.coarse_bnorm5 = nn.BatchNorm2d(256)\n",
    "        self.coarse_fc1 = nn.Linear(13824,4096)\n",
    "        self.coarse_fc2 = nn.Linear(4096,74*55)\n",
    "        \n",
    "\n",
    "    def forward(self,x):\n",
    "        y = F.relu(self.coarse_bnorm1(self.coarse_conv1(x)))\n",
    "        y = F.max_pool2d(y,2)\n",
    "        y = F.relu(self.coarse_bnorm2(self.coarse_conv2(y)))\n",
    "        y = F.max_pool2d(y,2)\n",
    "        y = F.relu(self.coarse_bnorm3(self.coarse_conv3(y)))\n",
    "        y = F.relu(self.coarse_bnorm4(self.coarse_conv4(y)))\n",
    "        y = F.max_pool2d(y,2)\n",
    "        y = F.relu(self.coarse_bnorm5(self.coarse_conv5(y)))\n",
    "        y = F.relu(self.coarse_fc1(y.view(-1,13824)))\n",
    "        y = self.coarse_fc2(y)\n",
    "        return y\n",
    "\n",
    "\n",
    "class DepthNet(nn.Module):\n",
    "    def __init__(self,coarse_net):\n",
    "        super(DepthNet,self).__init__()\n",
    "        self.fine_conv1 = nn.Conv2d(3,63,9,2)\n",
    "        self.fine_bnorm1 = nn.BatchNorm2d(64)\n",
    "        self.fine_conv2 = nn.Conv2d(64,64,5,padding=2)\n",
    "        self.fine_bnorm2 = nn.BatchNorm2d(64)\n",
    "        self.fine_conv3 = nn.Conv2d(64,1,5,padding=2)\n",
    "        self.coarse_net = coarse_net\n",
    "    def forward(self,x):\n",
    "        y = F.relu(self.fine_bnorm1(self.fine_conv1(x)))\n",
    "        y = F.max_pool2d(y,2)\n",
    "        y = F.relu(self.fine_bnorm2(self.fine_conv2(x)))\n",
    "        y = self.fine_conv1(x)\n",
    "        print(y.shape)"
   ]
  },
  {
   "cell_type": "code",
   "execution_count": 93,
   "metadata": {},
   "outputs": [],
   "source": [
    "test = np.random.rand(1,3,304,228)\n",
    "test = torch.Tensor(test)"
   ]
  },
  {
   "cell_type": "code",
   "execution_count": 95,
   "metadata": {},
   "outputs": [
    {
     "ename": "TypeError",
     "evalue": "__init__() missing 1 required positional argument: 'coarse_net'",
     "output_type": "error",
     "traceback": [
      "\u001b[0;31m---------------------------------------------------------------------------\u001b[0m",
      "\u001b[0;31mTypeError\u001b[0m                                 Traceback (most recent call last)",
      "\u001b[0;32m<ipython-input-95-fd3c6391ddc1>\u001b[0m in \u001b[0;36m<module>\u001b[0;34m()\u001b[0m\n\u001b[0;32m----> 1\u001b[0;31m \u001b[0mtestNet\u001b[0m \u001b[0;34m=\u001b[0m \u001b[0mDepthNet\u001b[0m\u001b[0;34m(\u001b[0m\u001b[0;34m)\u001b[0m\u001b[0;34m\u001b[0m\u001b[0m\n\u001b[0m\u001b[1;32m      2\u001b[0m \u001b[0mout\u001b[0m \u001b[0;34m=\u001b[0m \u001b[0mtestNet\u001b[0m\u001b[0;34m(\u001b[0m\u001b[0mtest\u001b[0m\u001b[0;34m)\u001b[0m\u001b[0;34m\u001b[0m\u001b[0m\n",
      "\u001b[0;31mTypeError\u001b[0m: __init__() missing 1 required positional argument: 'coarse_net'"
     ]
    }
   ],
   "source": [
    "testNet = DepthNet()\n",
    "out = testNet(test)"
   ]
  },
  {
   "cell_type": "code",
   "execution_count": 96,
   "metadata": {
    "scrolled": true
   },
   "outputs": [
    {
     "ename": "AttributeError",
     "evalue": "'NoneType' object has no attribute 'shape'",
     "output_type": "error",
     "traceback": [
      "\u001b[0;31m---------------------------------------------------------------------------\u001b[0m",
      "\u001b[0;31mAttributeError\u001b[0m                            Traceback (most recent call last)",
      "\u001b[0;32m<ipython-input-96-4095d5869b3e>\u001b[0m in \u001b[0;36m<module>\u001b[0;34m()\u001b[0m\n\u001b[0;32m----> 1\u001b[0;31m \u001b[0mprint\u001b[0m\u001b[0;34m(\u001b[0m\u001b[0mout\u001b[0m\u001b[0;34m.\u001b[0m\u001b[0mshape\u001b[0m\u001b[0;34m)\u001b[0m\u001b[0;34m\u001b[0m\u001b[0m\n\u001b[0m",
      "\u001b[0;31mAttributeError\u001b[0m: 'NoneType' object has no attribute 'shape'"
     ]
    }
   ],
   "source": [
    "print(out.shape)"
   ]
  },
  {
   "cell_type": "code",
   "execution_count": 82,
   "metadata": {},
   "outputs": [
    {
     "name": "stdout",
     "output_type": "stream",
     "text": [
      "torch.Size([32, 30])\n"
     ]
    }
   ],
   "source": [
    "m = nn.Linear(20,30)\n",
    "t = torch.rand((32,20))\n",
    "t = m(t)\n",
    "print(t.shape)"
   ]
  }
 ],
 "metadata": {
  "kernelspec": {
   "display_name": "Python 3",
   "language": "python",
   "name": "python3"
  },
  "language_info": {
   "codemirror_mode": {
    "name": "ipython",
    "version": 3
   },
   "file_extension": ".py",
   "mimetype": "text/x-python",
   "name": "python",
   "nbconvert_exporter": "python",
   "pygments_lexer": "ipython3",
   "version": "3.6.5"
  }
 },
 "nbformat": 4,
 "nbformat_minor": 2
}
